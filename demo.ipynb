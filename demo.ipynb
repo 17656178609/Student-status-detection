{
 "cells": [
  {
   "cell_type": "code",
   "execution_count": 5,
   "metadata": {},
   "outputs": [],
   "source": [
    "import torchvision.models as models\n",
    "from torchinfo import summary"
   ]
  },
  {
   "cell_type": "code",
   "execution_count": 3,
   "metadata": {},
   "outputs": [
    {
     "name": "stderr",
     "output_type": "stream",
     "text": [
      "c:\\Users\\Haiwei_Chen\\miniconda3\\envs\\yolov8\\lib\\site-packages\\torchvision\\models\\_utils.py:208: UserWarning: The parameter 'pretrained' is deprecated since 0.13 and may be removed in the future, please use 'weights' instead.\n",
      "  warnings.warn(\n",
      "c:\\Users\\Haiwei_Chen\\miniconda3\\envs\\yolov8\\lib\\site-packages\\torchvision\\models\\_utils.py:223: UserWarning: Arguments other than a weight enum or `None` for 'weights' are deprecated since 0.13 and may be removed in the future. The current behavior is equivalent to passing `weights=MobileNet_V3_Small_Weights.IMAGENET1K_V1`. You can also use `weights=MobileNet_V3_Small_Weights.DEFAULT` to get the most up-to-date weights.\n",
      "  warnings.warn(msg)\n",
      "Downloading: \"https://download.pytorch.org/models/mobilenet_v3_small-047dcff4.pth\" to C:\\Users\\Haiwei_Chen/.cache\\torch\\hub\\checkpoints\\mobilenet_v3_small-047dcff4.pth\n"
     ]
    },
    {
     "data": {
      "application/vnd.jupyter.widget-view+json": {
       "model_id": "6050a90b19934987b15872dad1f75975",
       "version_major": 2,
       "version_minor": 0
      },
      "text/plain": [
       "  0%|          | 0.00/9.83M [00:00<?, ?B/s]"
      ]
     },
     "metadata": {},
     "output_type": "display_data"
    }
   ],
   "source": [
    "model = models.mobilenet_v3_small(pretrained=True, progress=True)\n"
   ]
  },
  {
   "cell_type": "code",
   "execution_count": null,
   "metadata": {},
   "outputs": [],
   "source": [
    "mod = "
   ]
  },
  {
   "cell_type": "code",
   "execution_count": 6,
   "metadata": {},
   "outputs": [
    {
     "data": {
      "text/plain": [
       "====================================================================================================\n",
       "Layer (type:depth-idx)                             Output Shape              Param #\n",
       "====================================================================================================\n",
       "MobileNetV3                                        [1, 1000]                 --\n",
       "├─Sequential: 1-1                                  [1, 576, 20, 20]          --\n",
       "│    └─Conv2dNormActivation: 2-1                   [1, 16, 320, 320]         --\n",
       "│    │    └─Conv2d: 3-1                            [1, 16, 320, 320]         432\n",
       "│    │    └─BatchNorm2d: 3-2                       [1, 16, 320, 320]         32\n",
       "│    │    └─Hardswish: 3-3                         [1, 16, 320, 320]         --\n",
       "│    └─InvertedResidual: 2-2                       [1, 16, 160, 160]         --\n",
       "│    │    └─Sequential: 3-4                        [1, 16, 160, 160]         744\n",
       "│    └─InvertedResidual: 2-3                       [1, 24, 80, 80]           --\n",
       "│    │    └─Sequential: 3-5                        [1, 24, 80, 80]           3,864\n",
       "│    └─InvertedResidual: 2-4                       [1, 24, 80, 80]           --\n",
       "│    │    └─Sequential: 3-6                        [1, 24, 80, 80]           5,416\n",
       "│    └─InvertedResidual: 2-5                       [1, 40, 40, 40]           --\n",
       "│    │    └─Sequential: 3-7                        [1, 40, 40, 40]           13,736\n",
       "│    └─InvertedResidual: 2-6                       [1, 40, 40, 40]           --\n",
       "│    │    └─Sequential: 3-8                        [1, 40, 40, 40]           57,264\n",
       "│    └─InvertedResidual: 2-7                       [1, 40, 40, 40]           --\n",
       "│    │    └─Sequential: 3-9                        [1, 40, 40, 40]           57,264\n",
       "│    └─InvertedResidual: 2-8                       [1, 48, 40, 40]           --\n",
       "│    │    └─Sequential: 3-10                       [1, 48, 40, 40]           21,968\n",
       "│    └─InvertedResidual: 2-9                       [1, 48, 40, 40]           --\n",
       "│    │    └─Sequential: 3-11                       [1, 48, 40, 40]           29,800\n",
       "│    └─InvertedResidual: 2-10                      [1, 96, 20, 20]           --\n",
       "│    │    └─Sequential: 3-12                       [1, 96, 20, 20]           91,848\n",
       "│    └─InvertedResidual: 2-11                      [1, 96, 20, 20]           --\n",
       "│    │    └─Sequential: 3-13                       [1, 96, 20, 20]           294,096\n",
       "│    └─InvertedResidual: 2-12                      [1, 96, 20, 20]           --\n",
       "│    │    └─Sequential: 3-14                       [1, 96, 20, 20]           294,096\n",
       "│    └─Conv2dNormActivation: 2-13                  [1, 576, 20, 20]          --\n",
       "│    │    └─Conv2d: 3-15                           [1, 576, 20, 20]          55,296\n",
       "│    │    └─BatchNorm2d: 3-16                      [1, 576, 20, 20]          1,152\n",
       "│    │    └─Hardswish: 3-17                        [1, 576, 20, 20]          --\n",
       "├─AdaptiveAvgPool2d: 1-2                           [1, 576, 1, 1]            --\n",
       "├─Sequential: 1-3                                  [1, 1000]                 --\n",
       "│    └─Linear: 2-14                                [1, 1024]                 590,848\n",
       "│    └─Hardswish: 2-15                             [1, 1024]                 --\n",
       "│    └─Dropout: 2-16                               [1, 1024]                 --\n",
       "│    └─Linear: 2-17                                [1, 1000]                 1,025,000\n",
       "====================================================================================================\n",
       "Total params: 2,542,856\n",
       "Trainable params: 2,542,856\n",
       "Non-trainable params: 0\n",
       "Total mult-adds (M): 446.48\n",
       "====================================================================================================\n",
       "Input size (MB): 4.92\n",
       "Forward/backward pass size (MB): 184.56\n",
       "Params size (MB): 10.17\n",
       "Estimated Total Size (MB): 199.65\n",
       "===================================================================================================="
      ]
     },
     "execution_count": 6,
     "metadata": {},
     "output_type": "execute_result"
    }
   ],
   "source": [
    "summary(model, input_size=(1, 3, 640, 640))"
   ]
  },
  {
   "cell_type": "code",
   "execution_count": 12,
   "metadata": {},
   "outputs": [
    {
     "data": {
      "text/plain": [
       "===============================================================================================\n",
       "Layer (type:depth-idx)                        Output Shape              Param #\n",
       "===============================================================================================\n",
       "Sequential                                    [1, 24, 80, 80]           --\n",
       "├─Conv2dNormActivation: 1-1                   [1, 16, 320, 320]         --\n",
       "│    └─Conv2d: 2-1                            [1, 16, 320, 320]         432\n",
       "│    └─BatchNorm2d: 2-2                       [1, 16, 320, 320]         32\n",
       "│    └─Hardswish: 2-3                         [1, 16, 320, 320]         --\n",
       "├─InvertedResidual: 1-2                       [1, 16, 160, 160]         --\n",
       "│    └─Sequential: 2-4                        [1, 16, 160, 160]         --\n",
       "│    │    └─Conv2dNormActivation: 3-1         [1, 16, 160, 160]         176\n",
       "│    │    └─SqueezeExcitation: 3-2            [1, 16, 160, 160]         280\n",
       "│    │    └─Conv2dNormActivation: 3-3         [1, 16, 160, 160]         288\n",
       "├─InvertedResidual: 1-3                       [1, 24, 80, 80]           --\n",
       "│    └─Sequential: 2-5                        [1, 24, 80, 80]           --\n",
       "│    │    └─Conv2dNormActivation: 3-4         [1, 72, 160, 160]         1,296\n",
       "│    │    └─Conv2dNormActivation: 3-5         [1, 72, 80, 80]           792\n",
       "│    │    └─Conv2dNormActivation: 3-6         [1, 24, 80, 80]           1,776\n",
       "├─InvertedResidual: 1-4                       [1, 24, 80, 80]           --\n",
       "│    └─Sequential: 2-6                        [1, 24, 80, 80]           --\n",
       "│    │    └─Conv2dNormActivation: 3-7         [1, 88, 80, 80]           2,288\n",
       "│    │    └─Conv2dNormActivation: 3-8         [1, 88, 80, 80]           968\n",
       "│    │    └─Conv2dNormActivation: 3-9         [1, 24, 80, 80]           2,160\n",
       "===============================================================================================\n",
       "Total params: 10,488\n",
       "Trainable params: 10,488\n",
       "Non-trainable params: 0\n",
       "Total mult-adds (M): 131.28\n",
       "===============================================================================================\n",
       "Input size (MB): 4.92\n",
       "Forward/backward pass size (MB): 99.12\n",
       "Params size (MB): 0.04\n",
       "Estimated Total Size (MB): 104.08\n",
       "==============================================================================================="
      ]
     },
     "execution_count": 12,
     "metadata": {},
     "output_type": "execute_result"
    }
   ],
   "source": [
    "summary(model.features[:4], input_size=(1, 3, 640, 640))"
   ]
  }
 ],
 "metadata": {
  "kernelspec": {
   "display_name": "yolov8",
   "language": "python",
   "name": "python3"
  },
  "language_info": {
   "codemirror_mode": {
    "name": "ipython",
    "version": 3
   },
   "file_extension": ".py",
   "mimetype": "text/x-python",
   "name": "python",
   "nbconvert_exporter": "python",
   "pygments_lexer": "ipython3",
   "version": "3.8.16"
  },
  "orig_nbformat": 4
 },
 "nbformat": 4,
 "nbformat_minor": 2
}
