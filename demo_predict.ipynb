{
 "cells": [
  {
   "cell_type": "code",
   "execution_count": 2,
   "metadata": {
    "collapsed": true,
    "pycharm": {
     "name": "#%%\n"
    }
   },
   "outputs": [],
   "source": [
    "from ultralytics import YOLO\n",
    "import matplotlib.pyplot as plt"
   ]
  },
  {
   "cell_type": "code",
   "execution_count": 3,
   "metadata": {
    "collapsed": false,
    "pycharm": {
     "name": "#%%\n"
    }
   },
   "outputs": [],
   "source": [
    "yolo =YOLO(\"./yolov8n.pt\", task=\"detect\")"
   ]
  },
  {
   "cell_type": "code",
   "execution_count": 4,
   "metadata": {
    "collapsed": false,
    "pycharm": {
     "name": "#%%\n"
    }
   },
   "outputs": [
    {
     "name": "stderr",
     "output_type": "stream",
     "text": [
      "\n",
      "image 1/1 C:\\Code\\python\\ultralytics-main\\ultralytics\\assets\\bus.jpg: 640x480 4 persons, 1 bus, 1 stop sign, 123.9ms\n",
      "Speed: 4.1ms preprocess, 123.9ms inference, 140.1ms postprocess per image at shape (1, 3, 640, 640)\n",
      "Results saved to \u001b[1mruns\\detect\\predict16\u001b[0m\n"
     ]
    }
   ],
   "source": [
    "result = yolo(source=\"././././././././ultralytics/assets/bus.jpg\", save=True)\n"
   ]
  },
  {
   "cell_type": "code",
   "execution_count": 6,
   "metadata": {},
   "outputs": [
    {
     "data": {
      "text/plain": [
       "ultralytics.yolo.engine.results.Results object with attributes:\n",
       "\n",
       "boxes: ultralytics.yolo.engine.results.Boxes object\n",
       "keypoints: None\n",
       "keys: ['boxes']\n",
       "masks: None\n",
       "names: {0: 'person', 1: 'bicycle', 2: 'car', 3: 'motorcycle', 4: 'airplane', 5: 'bus', 6: 'train', 7: 'truck', 8: 'boat', 9: 'traffic light', 10: 'fire hydrant', 11: 'stop sign', 12: 'parking meter', 13: 'bench', 14: 'bird', 15: 'cat', 16: 'dog', 17: 'horse', 18: 'sheep', 19: 'cow', 20: 'elephant', 21: 'bear', 22: 'zebra', 23: 'giraffe', 24: 'backpack', 25: 'umbrella', 26: 'handbag', 27: 'tie', 28: 'suitcase', 29: 'frisbee', 30: 'skis', 31: 'snowboard', 32: 'sports ball', 33: 'kite', 34: 'baseball bat', 35: 'baseball glove', 36: 'skateboard', 37: 'surfboard', 38: 'tennis racket', 39: 'bottle', 40: 'wine glass', 41: 'cup', 42: 'fork', 43: 'knife', 44: 'spoon', 45: 'bowl', 46: 'banana', 47: 'apple', 48: 'sandwich', 49: 'orange', 50: 'broccoli', 51: 'carrot', 52: 'hot dog', 53: 'pizza', 54: 'donut', 55: 'cake', 56: 'chair', 57: 'couch', 58: 'potted plant', 59: 'bed', 60: 'dining table', 61: 'toilet', 62: 'tv', 63: 'laptop', 64: 'mouse', 65: 'remote', 66: 'keyboard', 67: 'cell phone', 68: 'microwave', 69: 'oven', 70: 'toaster', 71: 'sink', 72: 'refrigerator', 73: 'book', 74: 'clock', 75: 'vase', 76: 'scissors', 77: 'teddy bear', 78: 'hair drier', 79: 'toothbrush'}\n",
       "orig_img: array([[[119, 146, 172],\n",
       "        [121, 148, 174],\n",
       "        [122, 152, 177],\n",
       "        ...,\n",
       "        [161, 171, 188],\n",
       "        [160, 170, 187],\n",
       "        [160, 170, 187]],\n",
       "\n",
       "       [[120, 147, 173],\n",
       "        [122, 149, 175],\n",
       "        [123, 153, 178],\n",
       "        ...,\n",
       "        [161, 171, 188],\n",
       "        [160, 170, 187],\n",
       "        [160, 170, 187]],\n",
       "\n",
       "       [[123, 150, 176],\n",
       "        [124, 151, 177],\n",
       "        [125, 155, 180],\n",
       "        ...,\n",
       "        [161, 171, 188],\n",
       "        [160, 170, 187],\n",
       "        [160, 170, 187]],\n",
       "\n",
       "       ...,\n",
       "\n",
       "       [[183, 182, 186],\n",
       "        [179, 178, 182],\n",
       "        [180, 179, 183],\n",
       "        ...,\n",
       "        [121, 111, 117],\n",
       "        [113, 103, 109],\n",
       "        [115, 105, 111]],\n",
       "\n",
       "       [[165, 164, 168],\n",
       "        [173, 172, 176],\n",
       "        [187, 186, 190],\n",
       "        ...,\n",
       "        [102,  92,  98],\n",
       "        [101,  91,  97],\n",
       "        [103,  93,  99]],\n",
       "\n",
       "       [[123, 122, 126],\n",
       "        [145, 144, 148],\n",
       "        [176, 175, 179],\n",
       "        ...,\n",
       "        [ 95,  85,  91],\n",
       "        [ 96,  86,  92],\n",
       "        [ 98,  88,  94]]], dtype=uint8)\n",
       "orig_shape: (1080, 810)\n",
       "path: 'C:\\\\Code\\\\pycharm\\\\ultralytics-main\\\\ultralytics\\\\assets\\\\bus.jpg'\n",
       "probs: None\n",
       "speed: {'preprocess': 0.0, 'inference': 15.033483505249023, 'postprocess': 4.170417785644531}"
      ]
     },
     "execution_count": 6,
     "metadata": {},
     "output_type": "execute_result"
    }
   ],
   "source": [
    "result[0]"
   ]
  },
  {
   "cell_type": "code",
   "execution_count": 5,
   "metadata": {},
   "outputs": [
    {
     "data": {
      "text/plain": [
       "array([[[172, 146, 119],\n",
       "        [174, 148, 121],\n",
       "        [177, 152, 122],\n",
       "        ...,\n",
       "        [188, 171, 161],\n",
       "        [187, 170, 160],\n",
       "        [187, 170, 160]],\n",
       "\n",
       "       [[173, 147, 120],\n",
       "        [175, 149, 122],\n",
       "        [178, 153, 123],\n",
       "        ...,\n",
       "        [188, 171, 161],\n",
       "        [187, 170, 160],\n",
       "        [187, 170, 160]],\n",
       "\n",
       "       [[176, 150, 123],\n",
       "        [177, 151, 124],\n",
       "        [180, 155, 125],\n",
       "        ...,\n",
       "        [188, 171, 161],\n",
       "        [187, 170, 160],\n",
       "        [187, 170, 160]],\n",
       "\n",
       "       ...,\n",
       "\n",
       "       [[186, 182, 183],\n",
       "        [182, 178, 179],\n",
       "        [183, 179, 180],\n",
       "        ...,\n",
       "        [117, 111, 121],\n",
       "        [109, 103, 113],\n",
       "        [111, 105, 115]],\n",
       "\n",
       "       [[168, 164, 165],\n",
       "        [176, 172, 173],\n",
       "        [190, 186, 187],\n",
       "        ...,\n",
       "        [ 98,  92, 102],\n",
       "        [ 97,  91, 101],\n",
       "        [ 99,  93, 103]],\n",
       "\n",
       "       [[126, 122, 123],\n",
       "        [148, 144, 145],\n",
       "        [179, 175, 176],\n",
       "        ...,\n",
       "        [ 91,  85,  95],\n",
       "        [ 92,  86,  96],\n",
       "        [ 94,  88,  98]]], dtype=uint8)"
      ]
     },
     "execution_count": 5,
     "metadata": {},
     "output_type": "execute_result"
    }
   ],
   "source": [
    "import matplotlib.pyplot as plt \n",
    "%matplotlib inline\n",
    "result[0].plot()[:,:,::-1]"
   ]
  },
  {
   "cell_type": "code",
   "execution_count": 6,
   "metadata": {},
   "outputs": [
    {
     "data": {
      "text/plain": [
       "array([[     413.93,      494.07,      782.14,      525.58],\n",
       "       [     146.94,      650.63,       196.8,      504.15],\n",
       "       [      739.6,      634.61,      140.24,      484.87],\n",
       "       [     283.25,      631.66,      123.45,      451.73],\n",
       "       [     31.501,      711.98,      63.003,      322.91],\n",
       "       [     16.308,      289.67,      32.499,      70.413]], dtype=float32)"
      ]
     },
     "execution_count": 6,
     "metadata": {},
     "output_type": "execute_result"
    }
   ],
   "source": [
    "result[0].boxes.xywh.cpu().numpy()"
   ]
  }
 ],
 "metadata": {
  "kernelspec": {
   "display_name": "Python 3",
   "language": "python",
   "name": "python3"
  },
  "language_info": {
   "codemirror_mode": {
    "name": "ipython",
    "version": 3
   },
   "file_extension": ".py",
   "mimetype": "text/x-python",
   "name": "python",
   "nbconvert_exporter": "python",
   "pygments_lexer": "ipython3",
   "version": "3.8.16"
  }
 },
 "nbformat": 4,
 "nbformat_minor": 0
}
